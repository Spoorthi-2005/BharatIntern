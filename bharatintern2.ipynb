{
  "nbformat": 4,
  "nbformat_minor": 0,
  "metadata": {
    "colab": {
      "provenance": [],
      "mount_file_id": "18xNqWutwJjeDU6jx63wPlI1CXQMGqOsh",
      "authorship_tag": "ABX9TyM/XVygsqRB7lnjDZTu8C3u",
      "include_colab_link": true
    },
    "kernelspec": {
      "name": "python3",
      "display_name": "Python 3"
    },
    "language_info": {
      "name": "python"
    }
  },
  "cells": [
    {
      "cell_type": "markdown",
      "metadata": {
        "id": "view-in-github",
        "colab_type": "text"
      },
      "source": [
        "<a href=\"https://colab.research.google.com/github/Spoorthi-2005/codesoft-task1-titanic-survival/blob/main/bharatintern2.ipynb\" target=\"_parent\"><img src=\"https://colab.research.google.com/assets/colab-badge.svg\" alt=\"Open In Colab\"/></a>"
      ]
    },
    {
      "cell_type": "code",
      "execution_count": null,
      "metadata": {
        "colab": {
          "base_uri": "https://localhost:8080/"
        },
        "id": "v351LMFkKDqn",
        "outputId": "ecf822de-e2e3-4243-eb26-0d25eb02d891"
      },
      "outputs": [
        {
          "output_type": "stream",
          "name": "stdout",
          "text": [
            "Accuracy: 1.0\n",
            "Sample 1 is classified as 'Iris-versicolor'\n",
            "Sample 2 is classified as 'Iris-setosa'\n",
            "Sample 3 is classified as 'Iris-virginica'\n",
            "Sample 4 is classified as 'Iris-versicolor'\n",
            "Sample 5 is classified as 'Iris-versicolor'\n",
            "Sample 6 is classified as 'Iris-setosa'\n",
            "Sample 7 is classified as 'Iris-versicolor'\n",
            "Sample 8 is classified as 'Iris-virginica'\n",
            "Sample 9 is classified as 'Iris-versicolor'\n",
            "Sample 10 is classified as 'Iris-versicolor'\n",
            "Sample 11 is classified as 'Iris-virginica'\n",
            "Sample 12 is classified as 'Iris-setosa'\n",
            "Sample 13 is classified as 'Iris-setosa'\n",
            "Sample 14 is classified as 'Iris-setosa'\n",
            "Sample 15 is classified as 'Iris-setosa'\n",
            "Sample 16 is classified as 'Iris-versicolor'\n",
            "Sample 17 is classified as 'Iris-virginica'\n",
            "Sample 18 is classified as 'Iris-versicolor'\n",
            "Sample 19 is classified as 'Iris-versicolor'\n",
            "Sample 20 is classified as 'Iris-virginica'\n",
            "Sample 21 is classified as 'Iris-setosa'\n",
            "Sample 22 is classified as 'Iris-virginica'\n",
            "Sample 23 is classified as 'Iris-setosa'\n",
            "Sample 24 is classified as 'Iris-virginica'\n",
            "Sample 25 is classified as 'Iris-virginica'\n",
            "Sample 26 is classified as 'Iris-virginica'\n",
            "Sample 27 is classified as 'Iris-virginica'\n",
            "Sample 28 is classified as 'Iris-virginica'\n",
            "Sample 29 is classified as 'Iris-setosa'\n",
            "Sample 30 is classified as 'Iris-setosa'\n",
            "Sample 31 is classified as 'Iris-setosa'\n",
            "Sample 32 is classified as 'Iris-setosa'\n",
            "Sample 33 is classified as 'Iris-versicolor'\n",
            "Sample 34 is classified as 'Iris-setosa'\n",
            "Sample 35 is classified as 'Iris-setosa'\n",
            "Sample 36 is classified as 'Iris-virginica'\n",
            "Sample 37 is classified as 'Iris-versicolor'\n",
            "Sample 38 is classified as 'Iris-setosa'\n",
            "Sample 39 is classified as 'Iris-setosa'\n",
            "Sample 40 is classified as 'Iris-setosa'\n",
            "Sample 41 is classified as 'Iris-virginica'\n",
            "Sample 42 is classified as 'Iris-versicolor'\n",
            "Sample 43 is classified as 'Iris-versicolor'\n",
            "Sample 44 is classified as 'Iris-setosa'\n",
            "Sample 45 is classified as 'Iris-setosa'\n"
          ]
        }
      ],
      "source": [
        "import pandas as pd\n",
        "from sklearn.model_selection import train_test_split\n",
        "from sklearn.neighbors import KNeighborsClassifier\n",
        "from sklearn.metrics import accuracy_score\n",
        "\n",
        "# Load iris dataset from CSV\n",
        "iris_data = pd.read_csv('/content/Iris.csv')\n",
        "\n",
        "# Split dataset into features and target\n",
        "X = iris_data.drop('Species', axis=1)\n",
        "y = iris_data['Species']\n",
        "\n",
        "# Split dataset into training and testing sets\n",
        "X_train, X_test, y_train, y_test = train_test_split(X, y, test_size=0.3, random_state=42)\n",
        "\n",
        "# Train a k-NN classifier\n",
        "k = 3\n",
        "knn = KNeighborsClassifier(n_neighbors=k)\n",
        "knn.fit(X_train, y_train)\n",
        "\n",
        "# Predictions on the test set\n",
        "predictions = knn.predict(X_test)\n",
        "\n",
        "# Print accuracy of the model\n",
        "accuracy = accuracy_score(y_test, predictions)\n",
        "print(\"Accuracy:\", accuracy)\n",
        "\n",
        "# Print predicted species for each sample in the test set\n",
        "for i in range(len(X_test)):\n",
        "    print(f\"Sample {i+1} is classified as '{predictions[i]}'\")\n"
      ]
    }
  ]
}